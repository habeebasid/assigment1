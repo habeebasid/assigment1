{
 "cells": [
  {
   "cell_type": "code",
   "execution_count": 1,
   "id": "deaf3a75-497a-4b6a-b3ba-caf8b22b6dc7",
   "metadata": {},
   "outputs": [],
   "source": [
    "class vehicle:\n",
    "    \n",
    "    def __init__(self, name_of_vehicle ,max_speed,average_of_vehicle):\n",
    "        self.name = name_of_vehicle\n",
    "        self.speed =max_speed\n",
    "        self.avg = average_of_vehicle\n",
    "       \n"
   ]
  },
  {
   "cell_type": "code",
   "execution_count": 4,
   "id": "fda41693-86d9-4cc5-84e4-55eeb61d4e90",
   "metadata": {},
   "outputs": [],
   "source": [
    "class child(vehicle):\n",
    "    \n",
    "    def seating_capacity(self,capacity):\n",
    "        return self.name , capacity \n",
    "    "
   ]
  },
  {
   "cell_type": "code",
   "execution_count": 7,
   "id": "13e8fc53-1684-4718-b5b0-c576d146ef10",
   "metadata": {},
   "outputs": [],
   "source": [
    "obj_class = child(\"toyota\", 783,1234)"
   ]
  },
  {
   "cell_type": "code",
   "execution_count": 8,
   "id": "00432fa5-8f39-4ba8-80bd-aed258b0c6a6",
   "metadata": {},
   "outputs": [
    {
     "data": {
      "text/plain": [
       "('toyota', 2)"
      ]
     },
     "execution_count": 8,
     "metadata": {},
     "output_type": "execute_result"
    }
   ],
   "source": [
    "obj_class.seating_capacity(2)"
   ]
  },
  {
   "cell_type": "code",
   "execution_count": null,
   "id": "47ecf196-932f-4991-bec9-28040655358d",
   "metadata": {},
   "outputs": [],
   "source": [
    "#multiple inheritance\n",
    "#when one class inherits other class and one more class can inherit both cLass"
   ]
  },
  {
   "cell_type": "code",
   "execution_count": 27,
   "id": "a4837769-fe88-4453-99c2-77235f4bab49",
   "metadata": {},
   "outputs": [],
   "source": [
    "class class1():\n",
    "    def myfunc(self):\n",
    "        return \"this is my first class\"\n",
    "    "
   ]
  },
  {
   "cell_type": "code",
   "execution_count": 28,
   "id": "65a710ae-2688-4fbc-a31a-28bd0d578a33",
   "metadata": {},
   "outputs": [],
   "source": [
    "class class2(class1):\n",
    "    def myfunc1(self):\n",
    "        return \"this is my class 2\"\n",
    "    "
   ]
  },
  {
   "cell_type": "code",
   "execution_count": 29,
   "id": "6c7866b5-dbc2-4106-af03-debd4c213a8f",
   "metadata": {},
   "outputs": [],
   "source": [
    "class class3(class2):\n",
    "    pass\n",
    "        \n",
    "    "
   ]
  },
  {
   "cell_type": "code",
   "execution_count": 30,
   "id": "4d4acf6c-4243-4673-b880-51212eeb29cd",
   "metadata": {},
   "outputs": [],
   "source": [
    "obj_class3=class3()"
   ]
  },
  {
   "cell_type": "code",
   "execution_count": 32,
   "id": "13c98eb3-2e7a-40e3-a9d9-8780bf4f5f0b",
   "metadata": {},
   "outputs": [
    {
     "data": {
      "text/plain": [
       "'this is my class 2'"
      ]
     },
     "execution_count": 32,
     "metadata": {},
     "output_type": "execute_result"
    }
   ],
   "source": [
    "obj_class3.myfunc1()"
   ]
  },
  {
   "cell_type": "code",
   "execution_count": 33,
   "id": "0418c4db-289f-4e2a-8c02-39f60addfd7b",
   "metadata": {},
   "outputs": [
    {
     "data": {
      "text/plain": [
       "'this is my first class'"
      ]
     },
     "execution_count": 33,
     "metadata": {},
     "output_type": "execute_result"
    }
   ],
   "source": [
    "obj_class3.myfunc()"
   ]
  },
  {
   "cell_type": "code",
   "execution_count": 1,
   "id": "7b1f098d-46f2-4f2b-8117-518544ca7ed7",
   "metadata": {},
   "outputs": [
    {
     "name": "stdout",
     "output_type": "stream",
     "text": [
      "21\n"
     ]
    }
   ],
   "source": [
    "class data:\n",
    "    def __init__(self, age = 0):\n",
    "         self._age = age\n",
    "      \n",
    "    \n",
    "    def get_age(self):\n",
    "        return self._age\n",
    "      \n",
    "    \n",
    "    def set_age(self, x):\n",
    "        self._age = x\n",
    "  \n",
    "habi = data()\n",
    "  \n",
    "# setting the age using setter\n",
    "habi.set_age(21)\n",
    "  \n",
    "# retrieving age using getter\n",
    "print(habi.get_age())\n",
    "  \n"
   ]
  },
  {
   "cell_type": "code",
   "execution_count": null,
   "id": "f9e47cc2-8c7d-4424-8a76-57a627f666e3",
   "metadata": {},
   "outputs": [],
   "source": []
  }
 ],
 "metadata": {
  "kernelspec": {
   "display_name": "Python 3 (ipykernel)",
   "language": "python",
   "name": "python3"
  },
  "language_info": {
   "codemirror_mode": {
    "name": "ipython",
    "version": 3
   },
   "file_extension": ".py",
   "mimetype": "text/x-python",
   "name": "python",
   "nbconvert_exporter": "python",
   "pygments_lexer": "ipython3",
   "version": "3.10.8"
  }
 },
 "nbformat": 4,
 "nbformat_minor": 5
}
