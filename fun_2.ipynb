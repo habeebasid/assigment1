{
 "cells": [
  {
   "cell_type": "code",
   "execution_count": 1,
   "id": "709dd63a-a0e8-453e-8819-046823550ea3",
   "metadata": {},
   "outputs": [],
   "source": [
    "list1=[('Sachin Tendulkar', 34357), ('Ricky Ponting', 27483), ('Jack Kallis', 25534), ('Virat Kohli', 24936)]"
   ]
  },
  {
   "cell_type": "code",
   "execution_count": 2,
   "id": "81d2311b-6967-4aad-99c5-5a3d316fc24d",
   "metadata": {},
   "outputs": [],
   "source": [
    "list1.sort(key =lambda x : x[1])"
   ]
  },
  {
   "cell_type": "code",
   "execution_count": 3,
   "id": "2cff56d1-bc44-471b-b84a-759d93c950e7",
   "metadata": {},
   "outputs": [
    {
     "data": {
      "text/plain": [
       "[('Virat Kohli', 24936),\n",
       " ('Jack Kallis', 25534),\n",
       " ('Ricky Ponting', 27483),\n",
       " ('Sachin Tendulkar', 34357)]"
      ]
     },
     "execution_count": 3,
     "metadata": {},
     "output_type": "execute_result"
    }
   ],
   "source": [
    "list1"
   ]
  },
  {
   "cell_type": "code",
   "execution_count": 4,
   "id": "c7999d6a-aed1-4cc2-9e34-fbbbad172837",
   "metadata": {},
   "outputs": [
    {
     "data": {
      "text/plain": [
       "(1, 2, 3, 4, 5, 6, 7, 8, 9, 10)"
      ]
     },
     "execution_count": 4,
     "metadata": {},
     "output_type": "execute_result"
    }
   ],
   "source": [
    "tuple(map(lambda n :  n,[1,2,3,4,5,6,7,8,9,10]))"
   ]
  },
  {
   "cell_type": "code",
   "execution_count": 5,
   "id": "03449cc6-d3c8-4cf3-a048-0025e8cbe4c0",
   "metadata": {},
   "outputs": [],
   "source": [
    "a=[x for x in range(1,26)]"
   ]
  },
  {
   "cell_type": "code",
   "execution_count": 6,
   "id": "76850a57-1b17-4fe6-84c0-c47ba092a57d",
   "metadata": {},
   "outputs": [
    {
     "name": "stdout",
     "output_type": "stream",
     "text": [
      "15511210043330985984000000\n"
     ]
    }
   ],
   "source": [
    "import functools\n",
    "\n",
    "# importing operator for operator functions\n",
    "import operator\n",
    "\n",
    "print(functools.reduce(operator.mul, a))"
   ]
  },
  {
   "cell_type": "code",
   "execution_count": 8,
   "id": "61eaf06c-f348-4efa-849b-9adbd3dda431",
   "metadata": {},
   "outputs": [],
   "source": [
    "nums = [1, 2, 3, 4, 5, 6, 7, 8, 9, 10]"
   ]
  },
  {
   "cell_type": "code",
   "execution_count": 9,
   "id": "e95a8527-cd7d-49c2-8871-d29c50547978",
   "metadata": {},
   "outputs": [],
   "source": [
    "square_nums = list(map(lambda x: x ** 2, nums))"
   ]
  },
  {
   "cell_type": "code",
   "execution_count": 14,
   "id": "c22ce8d0-a59f-4391-b938-d62059e667b4",
   "metadata": {},
   "outputs": [
    {
     "data": {
      "text/plain": [
       "[1, 4, 9, 16, 25, 36, 49, 64, 81, 100]"
      ]
     },
     "execution_count": 14,
     "metadata": {},
     "output_type": "execute_result"
    }
   ],
   "source": [
    "square_nums"
   ]
  },
  {
   "cell_type": "code",
   "execution_count": 10,
   "id": "5af6f15e-ff62-419d-b405-b1eecaeaad89",
   "metadata": {},
   "outputs": [],
   "source": [
    "p=[2, 3, 6, 9, 27, 60, 90, 120, 55, 46]"
   ]
  },
  {
   "cell_type": "code",
   "execution_count": 11,
   "id": "493736e9-8b64-478b-a27b-91f9534eedac",
   "metadata": {},
   "outputs": [
    {
     "name": "stdout",
     "output_type": "stream",
     "text": [
      "Numbers divisible by 2 are [2, 6, 60, 90, 120, 46]\n"
     ]
    }
   ],
   "source": [
    "result = list(filter(lambda x: (x % 2 == 0), p))\n",
    "print(\"Numbers divisible by 2 are\",result)"
   ]
  },
  {
   "cell_type": "code",
   "execution_count": 12,
   "id": "85e04f70-db48-4bd1-b65a-6aed2b6aa18e",
   "metadata": {},
   "outputs": [],
   "source": [
    "text=['python', 'php', 'aba', 'radar', 'level']"
   ]
  },
  {
   "cell_type": "code",
   "execution_count": 13,
   "id": "b5bdb7a3-c823-4cb8-8aac-4ad25a5704fe",
   "metadata": {},
   "outputs": [],
   "source": [
    "result = list(filter(lambda x: (x == \"\".join(reversed(x))), text))"
   ]
  },
  {
   "cell_type": "code",
   "execution_count": 15,
   "id": "1470a514-6159-408d-8afe-be6e0a8e6d76",
   "metadata": {},
   "outputs": [
    {
     "data": {
      "text/plain": [
       "['php', 'aba', 'radar', 'level']"
      ]
     },
     "execution_count": 15,
     "metadata": {},
     "output_type": "execute_result"
    }
   ],
   "source": [
    "result"
   ]
  },
  {
   "cell_type": "code",
   "execution_count": null,
   "id": "1d8f2009-074f-455f-a459-f30379d1f5c3",
   "metadata": {},
   "outputs": [],
   "source": []
  }
 ],
 "metadata": {
  "kernelspec": {
   "display_name": "Python 3 (ipykernel)",
   "language": "python",
   "name": "python3"
  },
  "language_info": {
   "codemirror_mode": {
    "name": "ipython",
    "version": 3
   },
   "file_extension": ".py",
   "mimetype": "text/x-python",
   "name": "python",
   "nbconvert_exporter": "python",
   "pygments_lexer": "ipython3",
   "version": "3.10.8"
  }
 },
 "nbformat": 4,
 "nbformat_minor": 5
}
