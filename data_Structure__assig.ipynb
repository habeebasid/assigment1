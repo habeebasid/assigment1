{
  "nbformat": 4,
  "nbformat_minor": 0,
  "metadata": {
    "colab": {
      "provenance": [],
      "authorship_tag": "ABX9TyORhSK4V88MUZw8SQmhbMLp",
      "include_colab_link": true
    },
    "kernelspec": {
      "name": "python3",
      "display_name": "Python 3"
    },
    "language_info": {
      "name": "python"
    }
  },
  "cells": [
    {
      "cell_type": "markdown",
      "metadata": {
        "id": "view-in-github",
        "colab_type": "text"
      },
      "source": [
        "<a href=\"https://colab.research.google.com/github/habeebasid/assigment1/blob/main/data_Structure__assig.ipynb\" target=\"_parent\"><img src=\"https://colab.research.google.com/assets/colab-badge.svg\" alt=\"Open In Colab\"/></a>"
      ]
    },
    {
      "cell_type": "code",
      "execution_count": null,
      "metadata": {
        "id": "8mHl9_OJGJe4",
        "colab": {
          "base_uri": "https://localhost:8080/",
          "height": 36
        },
        "outputId": "ed41a2bb-e4e0-4361-d3be-4378e244064b"
      },
      "outputs": [
        {
          "output_type": "execute_result",
          "data": {
            "text/plain": [
              "' type 2 of commenting '"
            ],
            "application/vnd.google.colaboratory.intrinsic+json": {
              "type": "string"
            }
          },
          "metadata": {},
          "execution_count": 1
        }
      ],
      "source": [
        "# type 1 of commenting\n",
        "''' type 2 of commenting '''"
      ]
    },
    {
      "cell_type": "code",
      "source": [
        "#variables are temporary defined to store some value\n",
        "# variables can be any letter but not a number and cannot hv spaces or start with special characters\n",
        "#for assigning we have to just give equal sign\n",
        "b=5"
      ],
      "metadata": {
        "id": "8QRh5k2oB8b5"
      },
      "execution_count": 1,
      "outputs": []
    },
    {
      "cell_type": "code",
      "source": [
        "#by the func of tht data type for example\n",
        "a=7"
      ],
      "metadata": {
        "id": "eZFFmwIWJ_F0"
      },
      "execution_count": 7,
      "outputs": []
    },
    {
      "cell_type": "code",
      "source": [
        "b=str(a)"
      ],
      "metadata": {
        "id": "0Nlr6dVYKIUL"
      },
      "execution_count": 11,
      "outputs": []
    },
    {
      "cell_type": "code",
      "source": [
        "type(b)"
      ],
      "metadata": {
        "colab": {
          "base_uri": "https://localhost:8080/"
        },
        "id": "48QtlexoKKef",
        "outputId": "37ce8c6b-c479-4690-e251-d1a473b9c14a"
      },
      "execution_count": 12,
      "outputs": [
        {
          "output_type": "execute_result",
          "data": {
            "text/plain": [
              "str"
            ]
          },
          "metadata": {},
          "execution_count": 12
        }
      ]
    },
    {
      "cell_type": "code",
      "source": [
        "my_list=[1,2,3,4,5]"
      ],
      "metadata": {
        "id": "CUM4cJzUKLs8"
      },
      "execution_count": 13,
      "outputs": []
    },
    {
      "cell_type": "code",
      "source": [
        "my_list[1:3]"
      ],
      "metadata": {
        "colab": {
          "base_uri": "https://localhost:8080/"
        },
        "id": "TfXiKiQLLIe7",
        "outputId": "8eda6ec3-1805-4762-d2e5-27cd8d2de629"
      },
      "execution_count": 15,
      "outputs": [
        {
          "output_type": "execute_result",
          "data": {
            "text/plain": [
              "[2, 3]"
            ]
          },
          "metadata": {},
          "execution_count": 15
        }
      ]
    },
    {
      "cell_type": "code",
      "source": [
        "#complex no. is the number which has img part and real part\n",
        "a= 8-9j"
      ],
      "metadata": {
        "id": "42Irmk1ULPO5"
      },
      "execution_count": 16,
      "outputs": []
    },
    {
      "cell_type": "code",
      "source": [
        "age = 25"
      ],
      "metadata": {
        "id": "fw7emnWtLcwN"
      },
      "execution_count": 17,
      "outputs": []
    },
    {
      "cell_type": "code",
      "source": [
        "price =9.99\n",
        "type(price)"
      ],
      "metadata": {
        "colab": {
          "base_uri": "https://localhost:8080/"
        },
        "id": "7Zl1nHECLieT",
        "outputId": "c79583d6-d694-43c7-a09b-1b03f0196c75"
      },
      "execution_count": 19,
      "outputs": [
        {
          "output_type": "execute_result",
          "data": {
            "text/plain": [
              "float"
            ]
          },
          "metadata": {},
          "execution_count": 19
        }
      ]
    },
    {
      "cell_type": "code",
      "source": [
        "name =\"habeeba siddiqui \""
      ],
      "metadata": {
        "id": "9KlhznhkLn7-"
      },
      "execution_count": 20,
      "outputs": []
    },
    {
      "cell_type": "code",
      "source": [
        "name"
      ],
      "metadata": {
        "colab": {
          "base_uri": "https://localhost:8080/",
          "height": 36
        },
        "id": "AsP6CRbhLxUf",
        "outputId": "4fdae9f6-d971-48b1-b8e0-fa41492eea25"
      },
      "execution_count": 21,
      "outputs": [
        {
          "output_type": "execute_result",
          "data": {
            "text/plain": [
              "'habeeba siddiqui '"
            ],
            "application/vnd.google.colaboratory.intrinsic+json": {
              "type": "string"
            }
          },
          "metadata": {},
          "execution_count": 21
        }
      ]
    },
    {
      "cell_type": "code",
      "source": [
        "s= \"hello world\""
      ],
      "metadata": {
        "id": "mymMTXVzLxy-"
      },
      "execution_count": 22,
      "outputs": []
    },
    {
      "cell_type": "code",
      "source": [
        "s[6:]"
      ],
      "metadata": {
        "colab": {
          "base_uri": "https://localhost:8080/",
          "height": 36
        },
        "id": "bbGKpELmL2qm",
        "outputId": "778b11c6-77b9-433e-b692-71cf5896c99c"
      },
      "execution_count": 23,
      "outputs": [
        {
          "output_type": "execute_result",
          "data": {
            "text/plain": [
              "'world'"
            ],
            "application/vnd.google.colaboratory.intrinsic+json": {
              "type": "string"
            }
          },
          "metadata": {},
          "execution_count": 23
        }
      ]
    },
    {
      "cell_type": "code",
      "source": [
        "is_student=True"
      ],
      "metadata": {
        "id": "c3xgh6jQL7m6"
      },
      "execution_count": 24,
      "outputs": []
    },
    {
      "cell_type": "code",
      "source": [],
      "metadata": {
        "id": "dNIEVR7GMDdv"
      },
      "execution_count": null,
      "outputs": []
    }
  ]
}