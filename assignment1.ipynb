{
  "nbformat": 4,
  "nbformat_minor": 0,
  "metadata": {
    "colab": {
      "provenance": [],
      "authorship_tag": "ABX9TyM3lvRHr13VG2OTLmTSoMFF",
      "include_colab_link": true
    },
    "kernelspec": {
      "name": "python3",
      "display_name": "Python 3"
    },
    "language_info": {
      "name": "python"
    }
  },
  "cells": [
    {
      "cell_type": "markdown",
      "metadata": {
        "id": "view-in-github",
        "colab_type": "text"
      },
      "source": [
        "<a href=\"https://colab.research.google.com/github/habeebasid/assigment1/blob/main/assignment1.ipynb\" target=\"_parent\"><img src=\"https://colab.research.google.com/assets/colab-badge.svg\" alt=\"Open In Colab\"/></a>"
      ]
    },
    {
      "cell_type": "code",
      "source": [
        "s=\"string\"\n",
        "l1=[1,2,3,4]\n",
        "a=23.45\n",
        "t=(2,3,4,5)"
      ],
      "metadata": {
        "id": "QL7IEZe_EFJ7"
      },
      "execution_count": 1,
      "outputs": []
    },
    {
      "cell_type": "code",
      "source": [
        "var1=\"\"\n",
        "var2=\"[ds,ml,python]\"\n",
        "var3=[\"ds\",'ml','python']\n",
        "var4=1"
      ],
      "metadata": {
        "id": "F9jk2ISVEbcL"
      },
      "execution_count": 4,
      "outputs": []
    },
    {
      "cell_type": "code",
      "source": [
        "print(type(var1))\n",
        "print(type(var2))\n",
        "print(type(var3))\n",
        "print(type(var4))"
      ],
      "metadata": {
        "colab": {
          "base_uri": "https://localhost:8080/"
        },
        "id": "f3y9PTz5FAuG",
        "outputId": "695b1845-a67d-4f17-d123-d3f6e13beb15"
      },
      "execution_count": 7,
      "outputs": [
        {
          "output_type": "stream",
          "name": "stdout",
          "text": [
            "<class 'str'>\n",
            "<class 'str'>\n",
            "<class 'list'>\n",
            "<class 'int'>\n"
          ]
        }
      ]
    },
    {
      "cell_type": "code",
      "source": [
        "print(4/5) #this gives the division\n",
        "print(4//5)#this gives the absolute div\n",
        "print(4%5) #this gives the remainder\n",
        "print(4**5)#this gives the raise to number"
      ],
      "metadata": {
        "colab": {
          "base_uri": "https://localhost:8080/"
        },
        "id": "d2s0SydBFDmY",
        "outputId": "c88f59e3-0529-4dc1-95dc-eefb0273c2ab"
      },
      "execution_count": 8,
      "outputs": [
        {
          "output_type": "stream",
          "name": "stdout",
          "text": [
            "0.8\n",
            "0\n",
            "4\n",
            "1024\n"
          ]
        }
      ]
    },
    {
      "cell_type": "code",
      "source": [
        "l2=[2,\"hey\",23.4,(1,2),[3,4],True,\"cake\",4.0,False]"
      ],
      "metadata": {
        "id": "j174rdf7F4g1"
      },
      "execution_count": 10,
      "outputs": []
    },
    {
      "cell_type": "code",
      "source": [
        "for x in l2:\n",
        "  print(type(x))"
      ],
      "metadata": {
        "colab": {
          "base_uri": "https://localhost:8080/"
        },
        "id": "8bxMyvP_GIsz",
        "outputId": "b648a667-2d87-44c3-f495-6736f9987b7b"
      },
      "execution_count": 12,
      "outputs": [
        {
          "output_type": "stream",
          "name": "stdout",
          "text": [
            "<class 'int'>\n",
            "<class 'str'>\n",
            "<class 'float'>\n",
            "<class 'tuple'>\n",
            "<class 'list'>\n",
            "<class 'bool'>\n",
            "<class 'str'>\n",
            "<class 'float'>\n",
            "<class 'bool'>\n"
          ]
        }
      ]
    },
    {
      "cell_type": "code",
      "source": [
        "x=10\n",
        "y=2\n",
        "while True :\n",
        "  if x%y==0 :\n",
        "    print(\"the number is purely divisible\")\n",
        "    print(\"the count is\")\n",
        "    print(x//y)\n",
        "    break\n",
        "\n",
        "  else :\n",
        "    print(\"The number isnt purely divisible\")\n",
        "    break\n",
        "\n",
        ""
      ],
      "metadata": {
        "colab": {
          "base_uri": "https://localhost:8080/"
        },
        "id": "vOPZOMFpGihq",
        "outputId": "b42c6929-fbd3-4837-8f01-32fd34d17576"
      },
      "execution_count": 14,
      "outputs": [
        {
          "output_type": "stream",
          "name": "stdout",
          "text": [
            "the number is purely divisible\n",
            "the count is\n",
            "5\n"
          ]
        }
      ]
    },
    {
      "cell_type": "code",
      "source": [
        "l3=[]\n",
        "for x in range(1,26,1):\n",
        "   l3.append(x)\n",
        "print(l3)"
      ],
      "metadata": {
        "colab": {
          "base_uri": "https://localhost:8080/"
        },
        "id": "5sMrn6o_Hd5k",
        "outputId": "3e0f0872-8dbc-470c-d9cb-e6267baab4be"
      },
      "execution_count": 16,
      "outputs": [
        {
          "output_type": "stream",
          "name": "stdout",
          "text": [
            "[1, 2, 3, 4, 5, 6, 7, 8, 9, 10, 11, 12, 13, 14, 15, 16, 17, 18, 19, 20, 21, 22, 23, 24, 25]\n"
          ]
        }
      ]
    },
    {
      "cell_type": "code",
      "source": [
        "for x in l3 :\n",
        "  if x%3==0 :\n",
        "    print(x,\"yes\")\n",
        "  else:\n",
        "    print(x,\"no\")"
      ],
      "metadata": {
        "colab": {
          "base_uri": "https://localhost:8080/"
        },
        "id": "heMYjEfKIQiP",
        "outputId": "3c6ff7d3-8392-4517-c264-017f249df810"
      },
      "execution_count": 18,
      "outputs": [
        {
          "output_type": "stream",
          "name": "stdout",
          "text": [
            "1 no\n",
            "2 no\n",
            "3 yes\n",
            "4 no\n",
            "5 no\n",
            "6 yes\n",
            "7 no\n",
            "8 no\n",
            "9 yes\n",
            "10 no\n",
            "11 no\n",
            "12 yes\n",
            "13 no\n",
            "14 no\n",
            "15 yes\n",
            "16 no\n",
            "17 no\n",
            "18 yes\n",
            "19 no\n",
            "20 no\n",
            "21 yes\n",
            "22 no\n",
            "23 no\n",
            "24 yes\n",
            "25 no\n"
          ]
        }
      ]
    },
    {
      "cell_type": "code",
      "source": [
        "l1=[1,2,3,4]\n",
        "t=(1,2,3,4)"
      ],
      "metadata": {
        "id": "h6a6Nlp2JA70"
      },
      "execution_count": 19,
      "outputs": []
    },
    {
      "cell_type": "code",
      "source": [
        "l1[2]=\"changed\"\n",
        "print(l1)"
      ],
      "metadata": {
        "colab": {
          "base_uri": "https://localhost:8080/"
        },
        "id": "F41dfNySJUtq",
        "outputId": "a633dabf-a56f-4496-e223-9c65cb0d1597"
      },
      "execution_count": 20,
      "outputs": [
        {
          "output_type": "stream",
          "name": "stdout",
          "text": [
            "[1, 2, 'changed', 4]\n"
          ]
        }
      ]
    },
    {
      "cell_type": "code",
      "source": [
        "t[0]=\"not changed\""
      ],
      "metadata": {
        "colab": {
          "base_uri": "https://localhost:8080/",
          "height": 181
        },
        "id": "ln9vIZEoJeAw",
        "outputId": "274ae41d-b574-46c8-b652-6ca189c5ea1c"
      },
      "execution_count": 22,
      "outputs": [
        {
          "output_type": "error",
          "ename": "TypeError",
          "evalue": "ignored",
          "traceback": [
            "\u001b[0;31m---------------------------------------------------------------------------\u001b[0m",
            "\u001b[0;31mTypeError\u001b[0m                                 Traceback (most recent call last)",
            "\u001b[0;32m<ipython-input-22-fb642620c628>\u001b[0m in \u001b[0;36m<cell line: 1>\u001b[0;34m()\u001b[0m\n\u001b[0;32m----> 1\u001b[0;31m \u001b[0mt\u001b[0m\u001b[0;34m[\u001b[0m\u001b[0;36m0\u001b[0m\u001b[0;34m]\u001b[0m\u001b[0;34m=\u001b[0m\u001b[0;34m\"not changed\"\u001b[0m\u001b[0;34m\u001b[0m\u001b[0;34m\u001b[0m\u001b[0m\n\u001b[0m",
            "\u001b[0;31mTypeError\u001b[0m: 'tuple' object does not support item assignment"
          ]
        }
      ]
    },
    {
      "cell_type": "code",
      "source": [
        "# tuples and strings cannot be changed\n",
        "#list can be changed"
      ],
      "metadata": {
        "id": "GZdeFFSlJiB6"
      },
      "execution_count": null,
      "outputs": []
    }
  ]
}